{
 "cells": [
  {
   "cell_type": "code",
   "execution_count": 220,
   "metadata": {},
   "outputs": [],
   "source": [
    "import numpy as np\n",
    "import pandas as pd\n",
    "import re"
   ]
  },
  {
   "cell_type": "code",
   "execution_count": 221,
   "metadata": {},
   "outputs": [],
   "source": [
    "df_cpu = pd.read_csv(f\"all-p-clear.cpu.csv\", skiprows=14)\n",
    "df_dsk = pd.read_csv(f\"all-p-clear.dsk.csv\", skiprows=14)\n",
    "df_numa = pd.read_csv(f\"all-p-clear.numa.csv\", skiprows=14)\n",
    "df_tab = pd.read_csv(f\"all-p-clear.tab.csv\", skiprows=14)"
   ]
  },
  {
   "cell_type": "code",
   "execution_count": 222,
   "metadata": {},
   "outputs": [],
   "source": [
    "df_cpu[\"Timestamp\"] = pd.to_datetime(df_cpu[\"#Date\"].map(str) + \"-\" + df_cpu[\"Time\"], format=\"%Y%m%d-%H:%M:%S.%f\")"
   ]
  },
  {
   "cell_type": "code",
   "execution_count": 223,
   "metadata": {},
   "outputs": [],
   "source": [
    "interval_time = df_cpu[\"Timestamp\"][1] - df_cpu[\"Timestamp\"][0]"
   ]
  },
  {
   "cell_type": "code",
   "execution_count": 224,
   "metadata": {},
   "outputs": [],
   "source": [
    "cpus = [f\"[CPU:{i}]\" for i in range(16)]\n",
    "total_cpu = df_cpu[map(lambda x: x+\"Totl%\", cpus)]"
   ]
  },
  {
   "cell_type": "code",
   "execution_count": 226,
   "metadata": {},
   "outputs": [
    {
     "name": "stdout",
     "output_type": "stream",
     "text": [
      "Total CPU time in ms: 896000.0\n",
      "Parallel CPU time in ms: 852000.0\n",
      "Makes span: 885000.0\n"
     ]
    },
    {
     "data": {
      "text/plain": [
       "[DSK:vdc]RKBytes    2588464\n",
       "[DSK:vdc]WKBytes     474108\n",
       "dtype: int64"
      ]
     },
     "execution_count": 226,
     "metadata": {},
     "output_type": "execute_result"
    }
   ],
   "source": [
    "print(\n",
    "    \"Total CPU time in ms:\", \n",
    "    ((total_cpu >= 10 * 1).values.sum() * interval_time) / np.timedelta64(1, 'ms')\n",
    ")\n",
    "\n",
    "print(\n",
    "    \"Parallel CPU time in ms:\", \n",
    "    (sum([1 for row in (total_cpu >= 10 * 1).values if any(row)]) * interval_time) / np.timedelta64(1, 'ms')\n",
    ")\n",
    "\n",
    "\n",
    "print(\n",
    "    \"Makes span:\",\n",
    "    (df_cpu[\"Timestamp\"][len(df_cpu[\"Timestamp\"])-1] - df_cpu[\"Timestamp\"][0]) / np.timedelta64(1, 'ms')\n",
    ")\n",
    "\n",
    "df_dsk[['[DSK:vdc]RKBytes', '[DSK:vdc]WKBytes']].sum(axis=0)"
   ]
  },
  {
   "cell_type": "code",
   "execution_count": null,
   "metadata": {},
   "outputs": [],
   "source": []
  }
 ],
 "metadata": {
  "kernelspec": {
   "display_name": "Python 3",
   "language": "python",
   "name": "python3"
  },
  "language_info": {
   "codemirror_mode": {
    "name": "ipython",
    "version": 3
   },
   "file_extension": ".py",
   "mimetype": "text/x-python",
   "name": "python",
   "nbconvert_exporter": "python",
   "pygments_lexer": "ipython3",
   "version": "3.8.0rc1+"
  }
 },
 "nbformat": 4,
 "nbformat_minor": 4
}
